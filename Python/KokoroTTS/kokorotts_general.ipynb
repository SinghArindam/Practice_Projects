{
 "cells": [
  {
   "cell_type": "code",
   "execution_count": 3,
   "id": "44caa46c",
   "metadata": {},
   "outputs": [
    {
     "name": "stdout",
     "output_type": "stream",
     "text": [
      "WARNING: Defaulting repo_id to hexgrad/Kokoro-82M. Pass repo_id='hexgrad/Kokoro-82M' to suppress this warning.\n"
     ]
    },
    {
     "ename": "SystemExit",
     "evalue": "1",
     "output_type": "error",
     "traceback": [
      "An exception has occurred, use %tb to see the full traceback.\n",
      "\u001b[31mSystemExit\u001b[39m\u001b[31m:\u001b[39m 1\n"
     ]
    }
   ],
   "source": [
    "from kokoro import KPipeline\n",
    "from IPython.display import display, Audio\n",
    "import soundfile as sf\n",
    "import torch\n",
    "pipeline = KPipeline(lang_code='a')\n",
    "text = '''\n",
    "[Kokoro](/kˈOkəɹO/) is an open-weight TTS model with 82 million parameters. Despite its lightweight architecture, it delivers comparable quality to larger models while being significantly faster and more cost-efficient. With Apache-licensed weights, [Kokoro](/kˈOkəɹO/) can be deployed anywhere from production environments to personal projects.\n",
    "'''\n",
    "generator = pipeline(text, voice='af_heart')\n",
    "for i, (gs, ps, audio) in enumerate(generator):\n",
    "    print(i, gs, ps)\n",
    "    display(Audio(data=audio, rate=24000, autoplay=i==0))\n",
    "    sf.write(f'{i}.wav', audio, 24000)"
   ]
  },
  {
   "cell_type": "code",
   "execution_count": 4,
   "id": "2ca2e716",
   "metadata": {},
   "outputs": [
    {
     "ename": "SystemExit",
     "evalue": "1",
     "output_type": "error",
     "traceback": [
      "\u001b[31m---------------------------------------------------------------------------\u001b[39m",
      "\u001b[31mSystemExit\u001b[39m                                Traceback (most recent call last)",
      "\u001b[36mCell\u001b[39m\u001b[36m \u001b[39m\u001b[32mIn[3]\u001b[39m\u001b[32m, line 5\u001b[39m\n\u001b[32m      3\u001b[39m \u001b[38;5;28;01mimport\u001b[39;00m\u001b[38;5;250m \u001b[39m\u001b[34;01msoundfile\u001b[39;00m\u001b[38;5;250m \u001b[39m\u001b[38;5;28;01mas\u001b[39;00m\u001b[38;5;250m \u001b[39m\u001b[34;01msf\u001b[39;00m\n\u001b[32m      4\u001b[39m \u001b[38;5;28;01mimport\u001b[39;00m\u001b[38;5;250m \u001b[39m\u001b[34;01mtorch\u001b[39;00m\n\u001b[32m----> \u001b[39m\u001b[32m5\u001b[39m pipeline = \u001b[43mKPipeline\u001b[49m\u001b[43m(\u001b[49m\u001b[43mlang_code\u001b[49m\u001b[43m=\u001b[49m\u001b[33;43m'\u001b[39;49m\u001b[33;43ma\u001b[39;49m\u001b[33;43m'\u001b[39;49m\u001b[43m)\u001b[49m\n\u001b[32m      6\u001b[39m text = \u001b[33m'''\u001b[39m\n\u001b[32m      7\u001b[39m \u001b[33m[Kokoro](/kˈOkəɹO/) is an open-weight TTS model with 82 million parameters. Despite its lightweight architecture, it delivers comparable quality to larger models while being significantly faster and more cost-efficient. With Apache-licensed weights, [Kokoro](/kˈOkəɹO/) can be deployed anywhere from production environments to personal projects.\u001b[39m\n\u001b[32m      8\u001b[39m \u001b[33m'''\u001b[39m\n\u001b[32m      9\u001b[39m generator = pipeline(text, voice=\u001b[33m'\u001b[39m\u001b[33maf_heart\u001b[39m\u001b[33m'\u001b[39m)\n",
      "\u001b[36mFile \u001b[39m\u001b[32me:\\Github\\Projects\\Python\\KokoroTTS\\.venv\\Lib\\site-packages\\kokoro\\pipeline.py:113\u001b[39m, in \u001b[36mKPipeline.__init__\u001b[39m\u001b[34m(self, lang_code, repo_id, model, trf, en_callable, device)\u001b[39m\n\u001b[32m    111\u001b[39m         logger.warning({\u001b[38;5;28mstr\u001b[39m(e)})\n\u001b[32m    112\u001b[39m         fallback = \u001b[38;5;28;01mNone\u001b[39;00m\n\u001b[32m--> \u001b[39m\u001b[32m113\u001b[39m     \u001b[38;5;28mself\u001b[39m.g2p = \u001b[43men\u001b[49m\u001b[43m.\u001b[49m\u001b[43mG2P\u001b[49m\u001b[43m(\u001b[49m\u001b[43mtrf\u001b[49m\u001b[43m=\u001b[49m\u001b[43mtrf\u001b[49m\u001b[43m,\u001b[49m\u001b[43m \u001b[49m\u001b[43mbritish\u001b[49m\u001b[43m=\u001b[49m\u001b[43mlang_code\u001b[49m\u001b[43m==\u001b[49m\u001b[33;43m'\u001b[39;49m\u001b[33;43mb\u001b[39;49m\u001b[33;43m'\u001b[39;49m\u001b[43m,\u001b[49m\u001b[43m \u001b[49m\u001b[43mfallback\u001b[49m\u001b[43m=\u001b[49m\u001b[43mfallback\u001b[49m\u001b[43m,\u001b[49m\u001b[43m \u001b[49m\u001b[43munk\u001b[49m\u001b[43m=\u001b[49m\u001b[33;43m'\u001b[39;49m\u001b[33;43m'\u001b[39;49m\u001b[43m)\u001b[49m\n\u001b[32m    114\u001b[39m \u001b[38;5;28;01melif\u001b[39;00m lang_code == \u001b[33m'\u001b[39m\u001b[33mj\u001b[39m\u001b[33m'\u001b[39m:\n\u001b[32m    115\u001b[39m     \u001b[38;5;28;01mtry\u001b[39;00m:\n",
      "\u001b[36mFile \u001b[39m\u001b[32me:\\Github\\Projects\\Python\\KokoroTTS\\.venv\\Lib\\site-packages\\misaki\\en.py:501\u001b[39m, in \u001b[36mG2P.__init__\u001b[39m\u001b[34m(self, version, trf, british, fallback, unk)\u001b[39m\n\u001b[32m    499\u001b[39m name = \u001b[33mf\u001b[39m\u001b[33m\"\u001b[39m\u001b[33men_core_web_\u001b[39m\u001b[38;5;132;01m{\u001b[39;00m\u001b[33m'\u001b[39m\u001b[33mtrf\u001b[39m\u001b[33m'\u001b[39m\u001b[38;5;250m \u001b[39m\u001b[38;5;28;01mif\u001b[39;00m\u001b[38;5;250m \u001b[39mtrf\u001b[38;5;250m \u001b[39m\u001b[38;5;28;01melse\u001b[39;00m\u001b[38;5;250m \u001b[39m\u001b[33m'\u001b[39m\u001b[33msm\u001b[39m\u001b[33m'\u001b[39m\u001b[38;5;132;01m}\u001b[39;00m\u001b[33m\"\u001b[39m\n\u001b[32m    500\u001b[39m \u001b[38;5;28;01mif\u001b[39;00m \u001b[38;5;129;01mnot\u001b[39;00m spacy.util.is_package(name):\n\u001b[32m--> \u001b[39m\u001b[32m501\u001b[39m     \u001b[43mspacy\u001b[49m\u001b[43m.\u001b[49m\u001b[43mcli\u001b[49m\u001b[43m.\u001b[49m\u001b[43mdownload\u001b[49m\u001b[43m(\u001b[49m\u001b[43mname\u001b[49m\u001b[43m)\u001b[49m\n\u001b[32m    502\u001b[39m components = [\u001b[33m'\u001b[39m\u001b[33mtransformer\u001b[39m\u001b[33m'\u001b[39m \u001b[38;5;28;01mif\u001b[39;00m trf \u001b[38;5;28;01melse\u001b[39;00m \u001b[33m'\u001b[39m\u001b[33mtok2vec\u001b[39m\u001b[33m'\u001b[39m, \u001b[33m'\u001b[39m\u001b[33mtagger\u001b[39m\u001b[33m'\u001b[39m]\n\u001b[32m    503\u001b[39m \u001b[38;5;28mself\u001b[39m.nlp = spacy.load(name, enable=components)\n",
      "\u001b[36mFile \u001b[39m\u001b[32me:\\Github\\Projects\\Python\\KokoroTTS\\.venv\\Lib\\site-packages\\spacy\\cli\\download.py:90\u001b[39m, in \u001b[36mdownload\u001b[39m\u001b[34m(model, direct, sdist, *pip_args)\u001b[39m\n\u001b[32m     86\u001b[39m     version = get_version(model_name, compatibility)\n\u001b[32m     88\u001b[39m filename = get_model_filename(model_name, version, sdist)\n\u001b[32m---> \u001b[39m\u001b[32m90\u001b[39m \u001b[43mdownload_model\u001b[49m\u001b[43m(\u001b[49m\u001b[43mfilename\u001b[49m\u001b[43m,\u001b[49m\u001b[43m \u001b[49m\u001b[43mpip_args\u001b[49m\u001b[43m)\u001b[49m\n\u001b[32m     91\u001b[39m msg.good(\n\u001b[32m     92\u001b[39m     \u001b[33m\"\u001b[39m\u001b[33mDownload and installation successful\u001b[39m\u001b[33m\"\u001b[39m,\n\u001b[32m     93\u001b[39m     \u001b[33mf\u001b[39m\u001b[33m\"\u001b[39m\u001b[33mYou can now load the package via spacy.load(\u001b[39m\u001b[33m'\u001b[39m\u001b[38;5;132;01m{\u001b[39;00mmodel_name\u001b[38;5;132;01m}\u001b[39;00m\u001b[33m'\u001b[39m\u001b[33m)\u001b[39m\u001b[33m\"\u001b[39m,\n\u001b[32m     94\u001b[39m )\n\u001b[32m     95\u001b[39m \u001b[38;5;28;01mif\u001b[39;00m is_in_jupyter():\n",
      "\u001b[36mFile \u001b[39m\u001b[32me:\\Github\\Projects\\Python\\KokoroTTS\\.venv\\Lib\\site-packages\\spacy\\cli\\download.py:176\u001b[39m, in \u001b[36mdownload_model\u001b[39m\u001b[34m(filename, user_pip_args)\u001b[39m\n\u001b[32m    174\u001b[39m pip_args = \u001b[38;5;28mlist\u001b[39m(user_pip_args) \u001b[38;5;28;01mif\u001b[39;00m user_pip_args \u001b[38;5;129;01mis\u001b[39;00m \u001b[38;5;129;01mnot\u001b[39;00m \u001b[38;5;28;01mNone\u001b[39;00m \u001b[38;5;28;01melse\u001b[39;00m []\n\u001b[32m    175\u001b[39m cmd = [sys.executable, \u001b[33m\"\u001b[39m\u001b[33m-m\u001b[39m\u001b[33m\"\u001b[39m, \u001b[33m\"\u001b[39m\u001b[33mpip\u001b[39m\u001b[33m\"\u001b[39m, \u001b[33m\"\u001b[39m\u001b[33minstall\u001b[39m\u001b[33m\"\u001b[39m] + pip_args + [download_url]\n\u001b[32m--> \u001b[39m\u001b[32m176\u001b[39m \u001b[43mrun_command\u001b[49m\u001b[43m(\u001b[49m\u001b[43mcmd\u001b[49m\u001b[43m)\u001b[49m\n",
      "\u001b[36mFile \u001b[39m\u001b[32me:\\Github\\Projects\\Python\\KokoroTTS\\.venv\\Lib\\site-packages\\spacy\\util.py:1046\u001b[39m, in \u001b[36mrun_command\u001b[39m\u001b[34m(command, stdin, capture)\u001b[39m\n\u001b[32m   1044\u001b[39m     \u001b[38;5;28;01mraise\u001b[39;00m error\n\u001b[32m   1045\u001b[39m \u001b[38;5;28;01melif\u001b[39;00m ret.returncode != \u001b[32m0\u001b[39m:\n\u001b[32m-> \u001b[39m\u001b[32m1046\u001b[39m     \u001b[43msys\u001b[49m\u001b[43m.\u001b[49m\u001b[43mexit\u001b[49m\u001b[43m(\u001b[49m\u001b[43mret\u001b[49m\u001b[43m.\u001b[49m\u001b[43mreturncode\u001b[49m\u001b[43m)\u001b[49m\n\u001b[32m   1047\u001b[39m \u001b[38;5;28;01mreturn\u001b[39;00m ret\n",
      "\u001b[31mSystemExit\u001b[39m: 1"
     ]
    }
   ],
   "source": [
    "%tb"
   ]
  },
  {
   "cell_type": "code",
   "execution_count": null,
   "metadata": {},
   "outputs": [],
   "source": [
    "# 3️⃣ Initalize a pipeline\n",
    "from kokoro import KPipeline\n",
    "from IPython.display import display, Audio\n",
    "import soundfile as sf\n",
    "import torch\n",
    "# 🇺🇸 'a' => American English, 🇬🇧 'b' => British English\n",
    "# 🇪🇸 'e' => Spanish es\n",
    "# 🇫🇷 'f' => French fr-fr\n",
    "# 🇮🇳 'h' => Hindi hi\n",
    "# 🇮🇹 'i' => Italian it\n",
    "# 🇯🇵 'j' => Japanese: pip install misaki[ja]\n",
    "# 🇧🇷 'p' => Brazilian Portuguese pt-br\n",
    "# 🇨🇳 'z' => Mandarin Chinese: pip install misaki[zh]\n",
    "pipeline = KPipeline(lang_code='a') # <= make sure lang_code matches voice, reference above.\n",
    "\n",
    "# This text is for demonstration purposes only, unseen during training\n",
    "text = '''\n",
    "The sky above the port was the color of television, tuned to a dead channel.\n",
    "\"It's not like I'm using,\" Case heard someone say, as he shouldered his way through the crowd around the door of the Chat. \"It's like my body's developed this massive drug deficiency.\"\n",
    "It was a Sprawl voice and a Sprawl joke. The Chatsubo was a bar for professional expatriates; you could drink there for a week and never hear two words in Japanese.\n",
    "\n",
    "These were to have an enormous impact, not only because they were associated with Constantine, but also because, as in so many other areas, the decisions taken by Constantine (or in his name) were to have great significance for centuries to come. One of the main issues was the shape that Christian churches were to take, since there was not, apparently, a tradition of monumental church buildings when Constantine decided to help the Christian church build a series of truly spectacular structures. The main form that these churches took was that of the basilica, a multipurpose rectangular structure, based ultimately on the earlier Greek stoa, which could be found in most of the great cities of the empire. Christianity, unlike classical polytheism, needed a large interior space for the celebration of its religious services, and the basilica aptly filled that need. We naturally do not know the degree to which the emperor was involved in the design of new churches, but it is tempting to connect this with the secular basilica that Constantine completed in the Roman forum (the so-called Basilica of Maxentius) and the one he probably built in Trier, in connection with his residence in the city at a time when he was still caesar.\n",
    "\n",
    "[Kokoro](/kˈOkəɹO/) is an open-weight TTS model with 82 million parameters. Despite its lightweight architecture, it delivers comparable quality to larger models while being significantly faster and more cost-efficient. With Apache-licensed weights, [Kokoro](/kˈOkəɹO/) can be deployed anywhere from production environments to personal projects.\n",
    "'''\n",
    "# text = '「もしおれがただ偶然、そしてこうしようというつもりでなくここに立っているのなら、ちょっとばかり絶望するところだな」と、そんなことが彼の頭に思い浮かんだ。'\n",
    "# text = '中國人民不信邪也不怕邪，不惹事也不怕事，任何外國不要指望我們會拿自己的核心利益做交易，不要指望我們會吞下損害我國主權、安全、發展利益的苦果！'\n",
    "# text = 'Los partidos políticos tradicionales compiten con los populismos y los movimientos asamblearios.'\n",
    "# text = 'Le dromadaire resplendissant déambulait tranquillement dans les méandres en mastiquant de petites feuilles vernissées.'\n",
    "# text = 'ट्रांसपोर्टरों की हड़ताल लगातार पांचवें दिन जारी, दिसंबर से इलेक्ट्रॉनिक टोल कलेक्शनल सिस्टम'\n",
    "# text = \"Allora cominciava l'insonnia, o un dormiveglia peggiore dell'insonnia, che talvolta assumeva i caratteri dell'incubo.\"\n",
    "# text = 'Elabora relatórios de acompanhamento cronológico para as diferentes unidades do Departamento que propõem contratos.'\n",
    "\n",
    "# 4️⃣ Generate, display, and save audio files in a loop.\n",
    "generator = pipeline(\n",
    "    text, voice='af_heart', # <= change voice here\n",
    "    speed=1, split_pattern=r'\\n+'\n",
    ")\n",
    "# Alternatively, load voice tensor directly:\n",
    "# voice_tensor = torch.load('path/to/voice.pt', weights_only=True)\n",
    "# generator = pipeline(\n",
    "#     text, voice=voice_tensor,\n",
    "#     speed=1, split_pattern=r'\\n+'\n",
    "# )\n",
    "\n",
    "for i, (gs, ps, audio) in enumerate(generator):\n",
    "    print(i)  # i => index\n",
    "    print(gs) # gs => graphemes/text\n",
    "    print(ps) # ps => phonemes\n",
    "    display(Audio(data=audio, rate=24000, autoplay=i==0))\n",
    "    sf.write(f'{i}.wav', audio, 24000) # save each audio file"
   ]
  }
 ],
 "metadata": {
  "kernelspec": {
   "display_name": ".venv",
   "language": "python",
   "name": "python3"
  },
  "language_info": {
   "codemirror_mode": {
    "name": "ipython",
    "version": 3
   },
   "file_extension": ".py",
   "mimetype": "text/x-python",
   "name": "python",
   "nbconvert_exporter": "python",
   "pygments_lexer": "ipython3",
   "version": "3.11.9"
  }
 },
 "nbformat": 4,
 "nbformat_minor": 5
}
